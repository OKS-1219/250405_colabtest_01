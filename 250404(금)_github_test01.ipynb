{
  "nbformat": 4,
  "nbformat_minor": 0,
  "metadata": {
    "colab": {
      "provenance": [],
      "authorship_tag": "ABX9TyOcNCF9bkvDCAUMGhW4/A2i",
      "include_colab_link": true
    },
    "kernelspec": {
      "name": "python3",
      "display_name": "Python 3"
    },
    "language_info": {
      "name": "python"
    }
  },
  "cells": [
    {
      "cell_type": "markdown",
      "metadata": {
        "id": "view-in-github",
        "colab_type": "text"
      },
      "source": [
        "<a href=\"https://colab.research.google.com/github/OKS-1219/250405_colabtest_01/blob/main/250404(%EA%B8%88)_github_test01.ipynb\" target=\"_parent\"><img src=\"https://colab.research.google.com/assets/colab-badge.svg\" alt=\"Open In Colab\"/></a>"
      ]
    },
    {
      "cell_type": "code",
      "execution_count": null,
      "metadata": {
        "id": "6pQGiG3Lx_zp",
        "outputId": "7bfc4adb-82a1-4a95-9e7d-e6b60aa93f34",
        "colab": {
          "base_uri": "https://localhost:8080/"
        }
      },
      "outputs": [
        {
          "output_type": "stream",
          "name": "stdout",
          "text": [
            "오늘은 25년4월4일 금요일 입니다!\n"
          ]
        }
      ],
      "source": [
        "print(\"코랩과 깃허브 연동 테스트-1 입니다.\")"
      ]
    }
  ]
}